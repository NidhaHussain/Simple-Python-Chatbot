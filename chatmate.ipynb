{
  "nbformat": 4,
  "nbformat_minor": 0,
  "metadata": {
    "colab": {
      "provenance": []
    },
    "kernelspec": {
      "name": "python3",
      "display_name": "Python 3"
    },
    "language_info": {
      "name": "python"
    }
  },
  "cells": [
    {
      "cell_type": "code",
      "execution_count": 3,
      "metadata": {
        "colab": {
          "base_uri": "https://localhost:8080/"
        },
        "id": "a3HqlQfeO8Pz",
        "outputId": "d573fac7-21bc-4b91-a464-778647d17263"
      },
      "outputs": [
        {
          "output_type": "stream",
          "name": "stdout",
          "text": [
            "🤖 ChatMate: Your Simple Python Chatbot!\n",
            "Type 'bye' to exit.\n",
            "\n",
            "You: hii\n",
            "ChatMate: Hello there! How can I help you?\n",
            "You: byee\n",
            "ChatMate: I'm still learning! Can you ask something else?\n",
            "You: bye\n",
            "ChatMate: Goodbye! Have a great day!\n"
          ]
        }
      ],
      "source": [
        "print(\"🤖 ChatMate: Your Simple Python Chatbot!\")\n",
        "print(\"Type 'bye' to exit.\\n\")\n",
        "\n",
        "while True:\n",
        "    user_input = input(\"You: \").lower()\n",
        "\n",
        "    if user_input == \"bye\":\n",
        "        print(\"ChatMate: Goodbye! Have a great day!\")\n",
        "        break\n",
        "    elif \"hello\" in user_input or \"hi\" in user_input:\n",
        "        print(\"ChatMate: Hello there! How can I help you?\")\n",
        "    elif \"how are you\" in user_input:\n",
        "        print(\"ChatMate: I’m just code, but I’m doing great! 😄\")\n",
        "    elif \"your name\" in user_input:\n",
        "        print(\"ChatMate: I'm ChatMate, your simple Python chatbot.\")\n",
        "    elif \"help\" in user_input:\n",
        "        print(\"ChatMate: Sure! Ask me anything, or say 'bye' to quit.\")\n",
        "    elif \"what is an atom\" in user_input:\n",
        "        print(\"ChatMate: An atom is the basic building block of all matter.\")\n",
        "    elif \"what is a chatbot\" in user_input:\n",
        "        print(\"ChatMate: A chatbot is a program that can simulate conversation with humans.\")\n",
        "    elif \"what is python\" in user_input:\n",
        "        print(\"ChatMate: Python is a powerful programming language used in web, ML, and more.\")\n",
        "    else:\n",
        "        print(\"ChatMate: I'm still learning! Can you ask something else?\")\n"
      ]
    }
  ]
}